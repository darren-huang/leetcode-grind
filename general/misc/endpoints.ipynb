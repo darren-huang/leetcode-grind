{
 "cells": [
  {
   "cell_type": "code",
   "execution_count": 19,
   "metadata": {},
   "outputs": [],
   "source": [
    "import requests\n",
    "import json"
   ]
  },
  {
   "cell_type": "code",
   "execution_count": 3,
   "metadata": {},
   "outputs": [],
   "source": [
    "response = requests.get(\"https://api.github.com/users/darren-huang\")"
   ]
  },
  {
   "cell_type": "code",
   "execution_count": 5,
   "metadata": {},
   "outputs": [
    {
     "name": "stdout",
     "output_type": "stream",
     "text": [
      "_content b'{\"login\":\"darren-huang\",\"id\":25169398,\"node_id\":\"MDQ6VXNlcjI1MTY5Mzk4\",\"avatar_url\":\"https://avatars.githubusercontent.com/u/25169398?v=4\",\"gravatar_id\":\"\",\"url\":\"https://api.github.com/users/darren-huang\",\"html_url\":\"https://github.com/darren-huang\",\"followers_url\":\"https://api.github.com/users/darren-huang/followers\",\"following_url\":\"https://api.github.com/users/darren-huang/following{/other_user}\",\"gists_url\":\"https://api.github.com/users/darren-huang/gists{/gist_id}\",\"starred_url\":\"https://api.github.com/users/darren-huang/starred{/owner}{/repo}\",\"subscriptions_url\":\"https://api.github.com/users/darren-huang/subscriptions\",\"organizations_url\":\"https://api.github.com/users/darren-huang/orgs\",\"repos_url\":\"https://api.github.com/users/darren-huang/repos\",\"events_url\":\"https://api.github.com/users/darren-huang/events{/privacy}\",\"received_events_url\":\"https://api.github.com/users/darren-huang/received_events\",\"type\":\"User\",\"site_admin\":false,\"name\":\"Darren Huang\",\"company\":null,\"blog\":\"\",\"location\":null,\"email\":null,\"hireable\":null,\"bio\":null,\"twitter_username\":null,\"public_repos\":18,\"public_gists\":0,\"followers\":3,\"following\":0,\"created_at\":\"2017-01-17T07:28:32Z\",\"updated_at\":\"2023-06-29T21:02:05Z\"}'\n",
      "_content_consumed True\n",
      "_next None\n",
      "status_code 200\n",
      "headers {'Server': 'GitHub.com', 'Date': 'Tue, 04 Jul 2023 16:59:57 GMT', 'Content-Type': 'application/json; charset=utf-8', 'Cache-Control': 'public, max-age=60, s-maxage=60', 'Vary': 'Accept, Accept-Encoding, Accept, X-Requested-With', 'ETag': 'W/\"0c44dc3a342da744bf1aa5177ae114ed6093928f4653e5651fc049b621a9b193\"', 'Last-Modified': 'Thu, 29 Jun 2023 21:02:05 GMT', 'X-GitHub-Media-Type': 'github.v3; format=json', 'x-github-api-version-selected': '2022-11-28', 'Access-Control-Expose-Headers': 'ETag, Link, Location, Retry-After, X-GitHub-OTP, X-RateLimit-Limit, X-RateLimit-Remaining, X-RateLimit-Used, X-RateLimit-Resource, X-RateLimit-Reset, X-OAuth-Scopes, X-Accepted-OAuth-Scopes, X-Poll-Interval, X-GitHub-Media-Type, X-GitHub-SSO, X-GitHub-Request-Id, Deprecation, Sunset', 'Access-Control-Allow-Origin': '*', 'Strict-Transport-Security': 'max-age=31536000; includeSubdomains; preload', 'X-Frame-Options': 'deny', 'X-Content-Type-Options': 'nosniff', 'X-XSS-Protection': '0', 'Referrer-Policy': 'origin-when-cross-origin, strict-origin-when-cross-origin', 'Content-Security-Policy': \"default-src 'none'\", 'Content-Encoding': 'gzip', 'X-RateLimit-Limit': '60', 'X-RateLimit-Remaining': '58', 'X-RateLimit-Reset': '1688493597', 'X-RateLimit-Resource': 'core', 'X-RateLimit-Used': '2', 'Accept-Ranges': 'bytes', 'Content-Length': '466', 'X-GitHub-Request-Id': 'E82C:3D3A:4298:8945:64A45014'}\n",
      "raw <urllib3.response.HTTPResponse object at 0x7f9800075940>\n",
      "url https://api.github.com/users/darren-huang\n",
      "encoding utf-8\n",
      "history []\n",
      "reason OK\n",
      "cookies <RequestsCookieJar[]>\n",
      "elapsed 0:00:00.071065\n",
      "request <PreparedRequest [GET]>\n",
      "connection <requests.adapters.HTTPAdapter object at 0x7f97f07eb1c0>\n"
     ]
    }
   ],
   "source": [
    "for k, v in response.__dict__.items():\n",
    "    print(k, v)"
   ]
  },
  {
   "cell_type": "code",
   "execution_count": 21,
   "metadata": {},
   "outputs": [
    {
     "data": {
      "text/plain": [
       "{'login': 'darren-huang',\n",
       " 'id': 25169398,\n",
       " 'node_id': 'MDQ6VXNlcjI1MTY5Mzk4',\n",
       " 'avatar_url': 'https://avatars.githubusercontent.com/u/25169398?v=4',\n",
       " 'gravatar_id': '',\n",
       " 'url': 'https://api.github.com/users/darren-huang',\n",
       " 'html_url': 'https://github.com/darren-huang',\n",
       " 'followers_url': 'https://api.github.com/users/darren-huang/followers',\n",
       " 'following_url': 'https://api.github.com/users/darren-huang/following{/other_user}',\n",
       " 'gists_url': 'https://api.github.com/users/darren-huang/gists{/gist_id}',\n",
       " 'starred_url': 'https://api.github.com/users/darren-huang/starred{/owner}{/repo}',\n",
       " 'subscriptions_url': 'https://api.github.com/users/darren-huang/subscriptions',\n",
       " 'organizations_url': 'https://api.github.com/users/darren-huang/orgs',\n",
       " 'repos_url': 'https://api.github.com/users/darren-huang/repos',\n",
       " 'events_url': 'https://api.github.com/users/darren-huang/events{/privacy}',\n",
       " 'received_events_url': 'https://api.github.com/users/darren-huang/received_events',\n",
       " 'type': 'User',\n",
       " 'site_admin': False,\n",
       " 'name': 'Darren Huang',\n",
       " 'company': None,\n",
       " 'blog': '',\n",
       " 'location': None,\n",
       " 'email': None,\n",
       " 'hireable': None,\n",
       " 'bio': None,\n",
       " 'twitter_username': None,\n",
       " 'public_repos': 18,\n",
       " 'public_gists': 0,\n",
       " 'followers': 3,\n",
       " 'following': 0,\n",
       " 'created_at': '2017-01-17T07:28:32Z',\n",
       " 'updated_at': '2023-06-29T21:02:05Z'}"
      ]
     },
     "execution_count": 21,
     "metadata": {},
     "output_type": "execute_result"
    }
   ],
   "source": [
    "response.json()"
   ]
  },
  {
   "cell_type": "code",
   "execution_count": null,
   "metadata": {},
   "outputs": [],
   "source": []
  },
  {
   "cell_type": "code",
   "execution_count": 17,
   "metadata": {},
   "outputs": [
    {
     "data": {
      "text/plain": [
       "'asdf'"
      ]
     },
     "execution_count": 17,
     "metadata": {},
     "output_type": "execute_result"
    }
   ],
   "source": []
  },
  {
   "attachments": {},
   "cell_type": "markdown",
   "metadata": {},
   "source": [
    "# Json Placeholder Tests"
   ]
  },
  {
   "cell_type": "code",
   "execution_count": 24,
   "metadata": {},
   "outputs": [
    {
     "name": "stdout",
     "output_type": "stream",
     "text": [
      "https://jsonplaceholder.typicode.com/posts/1\n"
     ]
    }
   ],
   "source": [
    "from requests.compat import urljoin\n",
    "\n",
    "URL = \"https://jsonplaceholder.typicode.com\"\n",
    "print(urljoin(URL, \"posts/1\"))"
   ]
  },
  {
   "attachments": {},
   "cell_type": "markdown",
   "metadata": {},
   "source": [
    "## GET Requests"
   ]
  },
  {
   "cell_type": "code",
   "execution_count": 46,
   "metadata": {},
   "outputs": [],
   "source": [
    "def get_content_json(post_num):\n",
    "    get_url = urljoin(URL, f\"posts/{str(post_num)}\")\n",
    "    response = requests.get(get_url)\n",
    "    if response.status_code != 200:\n",
    "        raise LookupError(f\"Get request to {get_url} returned bad status code: {response.status_code} {response.reason}\")\n",
    "\n",
    "    return response.json()"
   ]
  },
  {
   "cell_type": "code",
   "execution_count": 47,
   "metadata": {},
   "outputs": [
    {
     "data": {
      "text/plain": [
       "{'userId': 1,\n",
       " 'id': 1,\n",
       " 'title': 'sunt aut facere repellat provident occaecati excepturi optio reprehenderit',\n",
       " 'body': 'quia et suscipit\\nsuscipit recusandae consequuntur expedita et cum\\nreprehenderit molestiae ut ut quas totam\\nnostrum rerum est autem sunt rem eveniet architecto'}"
      ]
     },
     "execution_count": 47,
     "metadata": {},
     "output_type": "execute_result"
    }
   ],
   "source": [
    "get_content_json(\"1\")"
   ]
  },
  {
   "attachments": {},
   "cell_type": "markdown",
   "metadata": {},
   "source": [
    "## POST Requests"
   ]
  },
  {
   "cell_type": "code",
   "execution_count": 62,
   "metadata": {},
   "outputs": [
    {
     "name": "stdout",
     "output_type": "stream",
     "text": [
      "201 Created\n"
     ]
    },
    {
     "data": {
      "text/plain": [
       "{'userId': 1, 'title': 'my post', 'random': False, 'id': 101}"
      ]
     },
     "execution_count": 62,
     "metadata": {},
     "output_type": "execute_result"
    }
   ],
   "source": [
    "\n",
    "data = {\"userId\": 1, \"title\": \"my post\", \"random\": False}\n",
    "def post_request1(data: dict):\n",
    "    post_url = urljoin(URL, \"posts\")\n",
    "    header = {\"content-type\": \"application/json\"}\n",
    "    response = requests.post(post_url, data=json.dumps(data), headers=header)\n",
    "    if response.status_code != 201:\n",
    "        raise LookupError(f\"{response.status_code}: {response.reason}\")\n",
    "    print(response.status_code, response.reason)\n",
    "    return response.json()\n",
    "\n",
    "post_request1(data)"
   ]
  },
  {
   "cell_type": "code",
   "execution_count": 61,
   "metadata": {},
   "outputs": [
    {
     "name": "stdout",
     "output_type": "stream",
     "text": [
      "201 Created\n"
     ]
    },
    {
     "data": {
      "text/plain": [
       "{'userId': 1, 'title': 'my post', 'random': False, 'id': 101}"
      ]
     },
     "execution_count": 61,
     "metadata": {},
     "output_type": "execute_result"
    }
   ],
   "source": [
    "data = {\"userId\": 1, \"title\": \"my post\", \"random\": False}\n",
    "def post_request2(data: dict):\n",
    "    post_url = urljoin(URL, \"posts\")\n",
    "    response = requests.post(post_url, json=data)\n",
    "    if response.status_code != 201:\n",
    "        raise LookupError(f\"{response.status_code}: {response.reason}\")\n",
    "    print(response.status_code, response.reason)\n",
    "    return response.json()\n",
    "\n",
    "post_request2(data)"
   ]
  },
  {
   "cell_type": "code",
   "execution_count": null,
   "metadata": {},
   "outputs": [],
   "source": []
  }
 ],
 "metadata": {
  "kernelspec": {
   "display_name": "Python 3",
   "language": "python",
   "name": "python3"
  },
  "language_info": {
   "codemirror_mode": {
    "name": "ipython",
    "version": 3
   },
   "file_extension": ".py",
   "mimetype": "text/x-python",
   "name": "python",
   "nbconvert_exporter": "python",
   "pygments_lexer": "ipython3",
   "version": "3.8.0"
  },
  "orig_nbformat": 4
 },
 "nbformat": 4,
 "nbformat_minor": 2
}
